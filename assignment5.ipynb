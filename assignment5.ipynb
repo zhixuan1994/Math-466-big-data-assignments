{
 "cells": [
  {
   "cell_type": "markdown",
   "metadata": {},
   "source": [
    "# The summary of Antoencoders\n",
    "\n",
    "This article mainly talks about the autoencoder, which is a specific type of neural network. This model mainly designed to compress the whole data first, after that, it will expand the compressed data.\n",
    "For this article, it intorduce several type of antoencoders. Such as regularized autoencoders, sparse autoencoders, denoising antoencoders, cantractive antoencoders. Their thought are similar, but has different cost function\n",
    "\n",
    "After that it introduce the variation of antoencoders. One good thing of this article is it provide some codes which we can use. Here is the link of in github:\n",
    "\n",
    "https://paperswithcode.com/paper/autoencoders\n"
   ]
  },
  {
   "cell_type": "code",
   "execution_count": null,
   "metadata": {},
   "outputs": [],
   "source": []
  }
 ],
 "metadata": {
  "kernelspec": {
   "display_name": "Python 3",
   "language": "python",
   "name": "python3"
  },
  "language_info": {
   "codemirror_mode": {
    "name": "ipython",
    "version": 3
   },
   "file_extension": ".py",
   "mimetype": "text/x-python",
   "name": "python",
   "nbconvert_exporter": "python",
   "pygments_lexer": "ipython3",
   "version": "3.6.6"
  }
 },
 "nbformat": 4,
 "nbformat_minor": 4
}
