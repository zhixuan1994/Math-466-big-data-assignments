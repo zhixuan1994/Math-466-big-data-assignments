{
 "cells": [
  {
   "cell_type": "markdown",
   "metadata": {},
   "source": [
    "## Summary for article \"Variational Autoencoder for Deep Learning of Images, Labels and Captions”"
   ]
  },
  {
   "cell_type": "markdown",
   "metadata": {},
   "source": [
    "In article “Variational Autoencoder for Deep Learning of Images, Labels and Captions”, they use convolutional neural network (CNN) as an image encoder, and deep generative deconvolutional network (DGDN) to decode the latent image features. In order to avoid absence of some key features, they designed a new semi-supervised CNN to learn images.\n",
    "\n",
    "First, lets look at its image decoder (DDGM). Since this is a semi-supervised model, it would be better to separate this into two parts: one with target, one without target. Then for the part with target variable, they first cut the image into several slices, which they didn’t provide some suggestion number, but due to the RGB images, it would be better to cut into three slices. Next, they train these three slices with target to generate the weight dictionary for each slice that has the highest accuracy base on the layer of network. For example, if they have two layers, they first separate the original image into k slices, then generate the weight dictionary for first layer, then add those slices with weight and separate into k2 slices to input to the layer 2. Next generate the dictionary for layer 2 and output the final image which sum up the weight of layer 2. The image encoder with deep CNN is quite same with DDGM but with different weight dictionary.\n",
    "Next part is the way to generate model, they use Bayesian support vector machine. In this part, they compared the SVM-based classifier and softmax-based classifier, which during the experiments part, they compare these two methods. \n",
    "\n",
    "In experiments part, they measure their model with MNIST and ImageNet 2012. For those two dataset, their performance is better than most image captioning systems. And another advantage is that it can use GPU to speed up.\n"
   ]
  }
 ],
 "metadata": {
  "kernelspec": {
   "display_name": "Python 3",
   "language": "python",
   "name": "python3"
  },
  "language_info": {
   "codemirror_mode": {
    "name": "ipython",
    "version": 3
   },
   "file_extension": ".py",
   "mimetype": "text/x-python",
   "name": "python",
   "nbconvert_exporter": "python",
   "pygments_lexer": "ipython3",
   "version": "3.6.6"
  }
 },
 "nbformat": 4,
 "nbformat_minor": 4
}
