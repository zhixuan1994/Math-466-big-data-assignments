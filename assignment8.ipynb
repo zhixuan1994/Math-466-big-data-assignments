{
 "cells": [
  {
   "cell_type": "markdown",
   "metadata": {},
   "source": [
    "# Summary for Distance metric learning, with application to clustering with side-information"
   ]
  },
  {
   "cell_type": "markdown",
   "metadata": {},
   "source": [
    "Their algorithms are use to find a better way for users to indicate a good matrix as an input, which normally did by some cluster algorithm, such as K-means.\n",
    "\n",
    "The reason they design such an algorithm is that for most clustering algorithms, they always fails to find some meaningful initial matrix for users. Therefore, in this paper, they design a model which consider the posing matrix learning as an optimization problem, and they solve this in a local-optima-free algorithms. After that they also find their algorihtms can be used to imporve the clustering performance\n",
    "\n",
    "First they introduce the needing for this algorithm which due to the 'story' behind the data. Sometimes, the cluster algorithms will goes wrong, and it is not series to define the 'right' result of clustering: for example, con cluster by topic, one cluster by writing style, etc. It is hard to say which one is better.\n",
    "\n",
    "To solve this problem, they consider to classificate them by 'similar'. After that, they transform this problem to optimization problem, and solve this by Lagrange function."
   ]
  },
  {
   "cell_type": "code",
   "execution_count": null,
   "metadata": {},
   "outputs": [],
   "source": []
  }
 ],
 "metadata": {
  "kernelspec": {
   "display_name": "Python 3",
   "language": "python",
   "name": "python3"
  },
  "language_info": {
   "codemirror_mode": {
    "name": "ipython",
    "version": 3
   },
   "file_extension": ".py",
   "mimetype": "text/x-python",
   "name": "python",
   "nbconvert_exporter": "python",
   "pygments_lexer": "ipython3",
   "version": "3.6.6"
  }
 },
 "nbformat": 4,
 "nbformat_minor": 4
}
