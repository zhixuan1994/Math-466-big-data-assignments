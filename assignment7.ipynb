{
 "cells": [
  {
   "cell_type": "markdown",
   "metadata": {},
   "source": [
    "## Summary of Fisher information in an order statistic and its concomitant \n",
    "At first, they assume (X,Y) has absolutely continuous distribution with parameter $\\theta$. They also describe some general properties of the Fisher information (FI) in pairs (X,Y), where X is order statistic, and Y represents its concomitant. They also evaluate the FI in Y-concomitant of an X-order statistic and compare its result with the one which generate from a single Y-order statistic. \n",
    "\n",
    "They showed that FI which contained in (X,Y) are enough to identify the standard regularity conditions. \n"
   ]
  },
  {
   "cell_type": "markdown",
   "metadata": {},
   "source": [
    "### Regularity conditions for $I_\\theta (X_{r:n},Y_{[r:n]})$\n",
    "\n",
    "the real parameter $\\theta$ in X defined by $I_\\theta (X) = E(\\frac{\\partial logf_1 (X;\\theta)}{\\partial \\theta})^2$ with following coditions:\n",
    "\n",
    "1) Parameter space $\\Omega$ is real non-degenerate interval\n",
    "\n",
    "2) PDF of X w.r.t. the $\\sigma$-finite measure $\\mu, f_1 (x;\\theta)$ which is differentiable w.r.t $\\theta$ for all $\\theta \\in \\Omega$\n",
    "\n",
    "3) For every measurable set $C \\in S$ the sample space:\n",
    "\n",
    "$$\\frac{\\partial}{\\partial \\theta} \\int_C f_1(x;\\theta) d\\mu= \\int_C \\frac{\\partial f_1(x;\\theta)}{\\partial \\theta} d\\mu$$"
   ]
  },
  {
   "cell_type": "markdown",
   "metadata": {},
   "source": [
    "They also provide several theorems, which for example: $F_1$ is free of $\\theta$, and the basic triangle relationship satisfied by the moments of order statistics holds for $I_\\theta (X_{r:n}, Y_{[r:n]} )$ and so on"
   ]
  },
  {
   "cell_type": "code",
   "execution_count": null,
   "metadata": {},
   "outputs": [],
   "source": []
  }
 ],
 "metadata": {
  "kernelspec": {
   "display_name": "Python 3",
   "language": "python",
   "name": "python3"
  },
  "language_info": {
   "codemirror_mode": {
    "name": "ipython",
    "version": 3
   },
   "file_extension": ".py",
   "mimetype": "text/x-python",
   "name": "python",
   "nbconvert_exporter": "python",
   "pygments_lexer": "ipython3",
   "version": "3.6.6"
  }
 },
 "nbformat": 4,
 "nbformat_minor": 4
}
